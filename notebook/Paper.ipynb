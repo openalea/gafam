{
 "cells": [
  {
   "cell_type": "markdown",
   "id": "8e319321-0d13-4bd6-9cf5-117f3253713e",
   "metadata": {},
   "source": [
    "# Data paper \n",
    "\n",
    "## Paper\n",
    "Young apple tree development under a gradient of agroforestry radiative conditions: a dataset of morphological and architectural responses at various topological scales\n",
    "\n",
    "## Authors: F. Reyes, B. Pitchers, C. Pradal, P.E. Lauri\n",
    "\n",
    "This Notebook showcase how to load the data and extract the analysis of apple tree under a gradient of agroforestry radiative conditions\n"
   ]
  },
  {
   "cell_type": "code",
   "execution_count": 1,
   "id": "272fd7ff-ef40-4c33-991b-3832d9bb3a99",
   "metadata": {},
   "outputs": [],
   "source": [
    "from gafam import analysis"
   ]
  },
  {
   "cell_type": "markdown",
   "id": "37f71437-793a-44ba-8a93-64c2b252e950",
   "metadata": {},
   "source": [
    "## Load the data set of 45 apple tree under different treatment\n",
    "## Extract the information at 3 different scales : Plant, Branch and Growth Unit"
   ]
  },
  {
   "cell_type": "code",
   "execution_count": 2,
   "id": "9f9b50c0-d2ad-49ae-a1a7-39448336213b",
   "metadata": {
    "scrolled": true
   },
   "outputs": [
    {
     "name": "stdout",
     "output_type": "stream",
     "text": [
      "NODE   < < False\n"
     ]
    }
   ],
   "source": [
    "tree_df, branch_df, GU_df = analysis.full_analysis(verbose=False)"
   ]
  },
  {
   "cell_type": "markdown",
   "id": "7057cbfb-d9d8-4d54-9a67-f4b62a2e2057",
   "metadata": {},
   "source": [
    "## Analysis at plant scale"
   ]
  },
  {
   "cell_type": "code",
   "execution_count": 3,
   "id": "ae99d0a6-52af-4bc7-a33e-f76dafbe8407",
   "metadata": {},
   "outputs": [],
   "source": [
    "import seaborn as sns\n",
    "import matplotlib.pyplot as plt\n",
    "\n",
    "sns.set_theme(style=\"ticks\", palette=\"crest\")\n"
   ]
  },
  {
   "cell_type": "code",
   "execution_count": 4,
   "id": "093ee71e-33f7-479e-8acd-9432a9007283",
   "metadata": {},
   "outputs": [
    {
     "data": {
      "text/plain": [
       "<Axes: xlabel='trt', ylabel='LA_2019'>"
      ]
     },
     "execution_count": 4,
     "metadata": {},
     "output_type": "execute_result"
    },
    {
     "data": {
      "image/png": "[encoded data removed]",
      "text/plain": [
       "<Figure size 640x480 with 2 Axes>"
      ]
     },
     "metadata": {},
     "output_type": "display_data"
    }
   ],
   "source": [
    "fig, ax =plt.subplots(1,2, sharey=True)\n",
    "sns.boxplot(x=\"trt\", y=\"LA_2018\",\n",
    "            data=tree_df, hue='trt', ax=ax[0])\n",
    "sns.boxplot(x=\"trt\", y=\"LA_2019\",\n",
    "            data=tree_df,hue='trt', ax=ax[1])"
   ]
  },
  {
   "cell_type": "markdown",
   "id": "bdb40935-6c00-4bc7-a1f8-df2c25f1ae27",
   "metadata": {},
   "source": [
    "# Analysis at Growth Unit scale"
   ]
  },
  {
   "cell_type": "code",
   "execution_count": 5,
   "id": "4332c684-281b-4576-8eeb-68527f04631e",
   "metadata": {},
   "outputs": [
    {
     "data": {
      "text/html": [
       "<div>\n",
       "<style scoped>\n",
       "    .dataframe tbody tr th:only-of-type {\n",
       "        vertical-align: middle;\n",
       "    }\n",
       "\n",
       "    .dataframe tbody tr th {\n",
       "        vertical-align: top;\n",
       "    }\n",
       "\n",
       "    .dataframe thead th {\n",
       "        text-align: right;\n",
       "    }\n",
       "</style>\n",
       "<table border=\"1\" class=\"dataframe\">\n",
       "  <thead>\n",
       "    <tr style=\"text-align: right;\">\n",
       "      <th></th>\n",
       "      <th>tree</th>\n",
       "      <th>trt</th>\n",
       "      <th>years</th>\n",
       "      <th>GU</th>\n",
       "      <th>LeafArea</th>\n",
       "      <th>nb_GU</th>\n",
       "      <th>nb_leaves</th>\n",
       "      <th>nb_flowers</th>\n",
       "      <th>nb_fruits</th>\n",
       "    </tr>\n",
       "  </thead>\n",
       "  <tbody>\n",
       "    <tr>\n",
       "      <th>0</th>\n",
       "      <td>1</td>\n",
       "      <td>AC</td>\n",
       "      <td>2018</td>\n",
       "      <td>A</td>\n",
       "      <td>627.20200</td>\n",
       "      <td>1</td>\n",
       "      <td>0</td>\n",
       "      <td>0</td>\n",
       "      <td>0</td>\n",
       "    </tr>\n",
       "    <tr>\n",
       "      <th>1</th>\n",
       "      <td>1</td>\n",
       "      <td>AC</td>\n",
       "      <td>2018</td>\n",
       "      <td>B</td>\n",
       "      <td>6512.77992</td>\n",
       "      <td>43</td>\n",
       "      <td>58</td>\n",
       "      <td>54</td>\n",
       "      <td>0</td>\n",
       "    </tr>\n",
       "    <tr>\n",
       "      <th>2</th>\n",
       "      <td>1</td>\n",
       "      <td>AC</td>\n",
       "      <td>2018</td>\n",
       "      <td>C</td>\n",
       "      <td>7938.62165</td>\n",
       "      <td>94</td>\n",
       "      <td>153</td>\n",
       "      <td>120</td>\n",
       "      <td>0</td>\n",
       "    </tr>\n",
       "    <tr>\n",
       "      <th>3</th>\n",
       "      <td>1</td>\n",
       "      <td>AC</td>\n",
       "      <td>2018</td>\n",
       "      <td>D</td>\n",
       "      <td>0.00000</td>\n",
       "      <td>0</td>\n",
       "      <td>0</td>\n",
       "      <td>0</td>\n",
       "      <td>0</td>\n",
       "    </tr>\n",
       "    <tr>\n",
       "      <th>4</th>\n",
       "      <td>1</td>\n",
       "      <td>AC</td>\n",
       "      <td>2018</td>\n",
       "      <td>E</td>\n",
       "      <td>0.00000</td>\n",
       "      <td>0</td>\n",
       "      <td>0</td>\n",
       "      <td>0</td>\n",
       "      <td>0</td>\n",
       "    </tr>\n",
       "    <tr>\n",
       "      <th>...</th>\n",
       "      <td>...</td>\n",
       "      <td>...</td>\n",
       "      <td>...</td>\n",
       "      <td>...</td>\n",
       "      <td>...</td>\n",
       "      <td>...</td>\n",
       "      <td>...</td>\n",
       "      <td>...</td>\n",
       "      <td>...</td>\n",
       "    </tr>\n",
       "    <tr>\n",
       "      <th>445</th>\n",
       "      <td>148</td>\n",
       "      <td>AF_IR</td>\n",
       "      <td>2019</td>\n",
       "      <td>A</td>\n",
       "      <td>97.33408</td>\n",
       "      <td>1</td>\n",
       "      <td>0</td>\n",
       "      <td>0</td>\n",
       "      <td>0</td>\n",
       "    </tr>\n",
       "    <tr>\n",
       "      <th>446</th>\n",
       "      <td>148</td>\n",
       "      <td>AF_IR</td>\n",
       "      <td>2019</td>\n",
       "      <td>B</td>\n",
       "      <td>5478.28288</td>\n",
       "      <td>44</td>\n",
       "      <td>34</td>\n",
       "      <td>24</td>\n",
       "      <td>4</td>\n",
       "    </tr>\n",
       "    <tr>\n",
       "      <th>447</th>\n",
       "      <td>148</td>\n",
       "      <td>AF_IR</td>\n",
       "      <td>2019</td>\n",
       "      <td>C</td>\n",
       "      <td>14091.22799</td>\n",
       "      <td>112</td>\n",
       "      <td>72</td>\n",
       "      <td>55</td>\n",
       "      <td>14</td>\n",
       "    </tr>\n",
       "    <tr>\n",
       "      <th>448</th>\n",
       "      <td>148</td>\n",
       "      <td>AF_IR</td>\n",
       "      <td>2019</td>\n",
       "      <td>D</td>\n",
       "      <td>5928.16141</td>\n",
       "      <td>65</td>\n",
       "      <td>0</td>\n",
       "      <td>0</td>\n",
       "      <td>0</td>\n",
       "    </tr>\n",
       "    <tr>\n",
       "      <th>449</th>\n",
       "      <td>148</td>\n",
       "      <td>AF_IR</td>\n",
       "      <td>2019</td>\n",
       "      <td>E</td>\n",
       "      <td>0.00000</td>\n",
       "      <td>0</td>\n",
       "      <td>0</td>\n",
       "      <td>0</td>\n",
       "      <td>0</td>\n",
       "    </tr>\n",
       "  </tbody>\n",
       "</table>\n",
       "<p>450 rows × 9 columns</p>\n",
       "</div>"
      ],
      "text/plain": [
       "     tree    trt years GU     LeafArea  nb_GU  nb_leaves  nb_flowers  \\\n",
       "0       1     AC  2018  A    627.20200      1          0           0   \n",
       "1       1     AC  2018  B   6512.77992     43         58          54   \n",
       "2       1     AC  2018  C   7938.62165     94        153         120   \n",
       "3       1     AC  2018  D      0.00000      0          0           0   \n",
       "4       1     AC  2018  E      0.00000      0          0           0   \n",
       "..    ...    ...   ... ..          ...    ...        ...         ...   \n",
       "445   148  AF_IR  2019  A     97.33408      1          0           0   \n",
       "446   148  AF_IR  2019  B   5478.28288     44         34          24   \n",
       "447   148  AF_IR  2019  C  14091.22799    112         72          55   \n",
       "448   148  AF_IR  2019  D   5928.16141     65          0           0   \n",
       "449   148  AF_IR  2019  E      0.00000      0          0           0   \n",
       "\n",
       "     nb_fruits  \n",
       "0            0  \n",
       "1            0  \n",
       "2            0  \n",
       "3            0  \n",
       "4            0  \n",
       "..         ...  \n",
       "445          0  \n",
       "446          4  \n",
       "447         14  \n",
       "448          0  \n",
       "449          0  \n",
       "\n",
       "[450 rows x 9 columns]"
      ]
     },
     "execution_count": 5,
     "metadata": {},
     "output_type": "execute_result"
    }
   ],
   "source": [
    "GU_df"
   ]
  },
  {
   "cell_type": "code",
   "execution_count": 6,
   "id": "97484fa5-ca92-420f-bc06-a65746267c1c",
   "metadata": {},
   "outputs": [
    {
     "data": {
      "text/plain": [
       "<Axes: xlabel='trt', ylabel='LeafArea'>"
      ]
     },
     "execution_count": 6,
     "metadata": {},
     "output_type": "execute_result"
    },
    {
     "data": {
      "image/png": "[encoded data removed]",
      "text/plain": [
       "<Figure size 640x480 with 8 Axes>"
      ]
     },
     "metadata": {},
     "output_type": "display_data"
    }
   ],
   "source": [
    "fig, ax =plt.subplots(2,4, sharey='row')\n",
    "sns.boxplot(x=\"trt\", y=\"LeafArea\",\n",
    "            data=GU_df.query('years == \"2018\" and GU==\"A\"'), \n",
    "            hue='trt', ax=ax[0][0])\n",
    "sns.boxplot(x=\"trt\", y=\"LeafArea\",\n",
    "            data=GU_df.query('years == \"2018\" and GU==\"B\"'), hue='trt', ax=ax[0][1])\n",
    "sns.boxplot(x=\"trt\", y=\"LeafArea\",\n",
    "            data=GU_df.query('years == \"2018\" and GU==\"C\"'), hue='trt', ax=ax[0][2])\n",
    "sns.boxplot(x=\"trt\", y=\"LeafArea\",\n",
    "            data=GU_df.query('years == \"2018\" and GU==\"D\"'), hue='trt', ax=ax[0][3])\n",
    "sns.boxplot(x=\"trt\", y=\"LeafArea\",\n",
    "            data=GU_df.query('years == \"2019\" and GU==\"A\"'), hue='trt', ax=ax[1][0])\n",
    "sns.boxplot(x=\"trt\", y=\"LeafArea\",\n",
    "            data=GU_df.query('years == \"2019\" and GU==\"B\"'), hue='trt', ax=ax[1][1])\n",
    "sns.boxplot(x=\"trt\", y=\"LeafArea\",\n",
    "            data=GU_df.query('years == \"2019\" and GU==\"C\"'), hue='trt', ax=ax[1][2])\n",
    "sns.boxplot(x=\"trt\", y=\"LeafArea\",\n",
    "            data=GU_df.query('years == \"2019\" and GU==\"D\"'), hue='trt', ax=ax[1][3])\n",
    "\n"
   ]
  }
 ],
 "metadata": {
  "kernelspec": {
   "display_name": "Python 3 (ipykernel)",
   "language": "python",
   "name": "python3"
  },
  "language_info": {
   "codemirror_mode": {
    "name": "ipython",
    "version": 3
   },
   "file_extension": ".py",
   "mimetype": "text/x-python",
   "name": "python",
   "nbconvert_exporter": "python",
   "pygments_lexer": "ipython3",
   "version": "3.10.13"
  }
 },
 "nbformat": 4,
 "nbformat_minor": 5
}
